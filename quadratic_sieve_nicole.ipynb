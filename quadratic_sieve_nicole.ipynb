{
 "cells": [
  {
   "cell_type": "code",
   "execution_count": 10,
   "id": "449bc15b",
   "metadata": {},
   "outputs": [],
   "source": [
    "import numpy as np\n",
    "from typing import Union"
   ]
  },
  {
   "cell_type": "code",
   "execution_count": 13,
   "id": "8a213dbd",
   "metadata": {},
   "outputs": [],
   "source": [
    "# TODO: change list types to numpy arrays"
   ]
  },
  {
   "cell_type": "code",
   "execution_count": 7,
   "id": "a7454a02",
   "metadata": {},
   "outputs": [],
   "source": [
    "\"\"\"\n",
    "Given an integer B, return the number of positive integers \n",
    "x less than B such that gcd(x, B) = 1\n",
    "\"\"\"\n",
    "def phi(B) -> int:\n",
    "    \n",
    "    \n",
    "    pass"
   ]
  },
  {
   "cell_type": "code",
   "execution_count": 4,
   "id": "01faa1f9",
   "metadata": {},
   "outputs": [],
   "source": [
    "\"\"\"\n",
    "Given an integer B and an integer a < B, check whether or not \n",
    "a is B-smooth\n",
    "\n",
    "return a list with elements (p_i, c_i) where a the product \n",
    "of all p_i^(c_i) if a is B-smooth\n",
    "\n",
    "return false otherwise\n",
    "\"\"\"\n",
    "\n",
    "def is_B_smooth(a: int, B: int) -> Union[list[tuple[int, int]], bool]:\n",
    "    \n",
    "    \n",
    "    pass"
   ]
  },
  {
   "cell_type": "code",
   "execution_count": null,
   "id": "056f23f3",
   "metadata": {},
   "outputs": [],
   "source": [
    "'''\n",
    "Given a vector of exponents, return the vector mod-2 \n",
    "'''\n",
    "def exponent_vector_mod_2(exponents: list[int]) -> list[int]:\n",
    "    \n",
    "    return [ c % 2 for c in exponents ]"
   ]
  },
  {
   "cell_type": "code",
   "execution_count": 12,
   "id": "c5c3e2c7",
   "metadata": {},
   "outputs": [],
   "source": [
    "'''\n",
    "Given an integer n, try to factor it into two large primes\n",
    "Returns a tuple of the factors if able to factor\n",
    "Returns false if couldn't factor\n",
    "''' \n",
    "def quadratic_sieve(n: int) -> Union[tuple[int, int], bool]:\n",
    "    \n",
    "    \n",
    "    \"\"\"\n",
    "    Choose smoothness bound B\n",
    "    \"\"\"\n",
    "    \n",
    "    \"\"\"\n",
    "    Find phi(B) + 1 numbers a_i such that \n",
    "        b_i = a_i^2 (mod n)\n",
    "    is B-smooth.\n",
    "    \"\"\"\n",
    "    \n",
    "    \"\"\"\n",
    "    Factor the b_i and generate exponent vectors \n",
    "    (mod 2) for each b_i\n",
    "    \"\"\"\n",
    "    \n",
    "    \"\"\"\n",
    "    Find linear combination of these vectors that\n",
    "    sums to the zero vector\n",
    "    \"\"\"\n",
    "    \n",
    "    \"\"\"\n",
    "    Multiply the corresponding a_i for the above \n",
    "    combination and call the result (mod n) 'a'\n",
    "    \n",
    "    Multiply the corresponding b_i for the above \n",
    "    combination and call the result (mod n) 'b'\n",
    "    \n",
    "    \"\"\"\n",
    "    \n",
    "    \n",
    "    \n",
    "    \n",
    "    pass"
   ]
  },
  {
   "cell_type": "code",
   "execution_count": null,
   "id": "5582d400",
   "metadata": {},
   "outputs": [],
   "source": []
  }
 ],
 "metadata": {
  "kernelspec": {
   "display_name": "Python 3 (ipykernel)",
   "language": "python",
   "name": "python3"
  },
  "language_info": {
   "codemirror_mode": {
    "name": "ipython",
    "version": 3
   },
   "file_extension": ".py",
   "mimetype": "text/x-python",
   "name": "python",
   "nbconvert_exporter": "python",
   "pygments_lexer": "ipython3",
   "version": "3.9.11"
  }
 },
 "nbformat": 4,
 "nbformat_minor": 5
}
