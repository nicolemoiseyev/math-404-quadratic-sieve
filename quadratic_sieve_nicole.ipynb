{
 "cells": [
  {
   "cell_type": "code",
   "execution_count": 34,
   "id": "449bc15b",
   "metadata": {},
   "outputs": [],
   "source": [
    "import numpy as np\n",
    "from typing import Union\n",
    "import math"
   ]
  },
  {
   "cell_type": "code",
   "execution_count": null,
   "id": "8a213dbd",
   "metadata": {},
   "outputs": [],
   "source": []
  },
  {
   "cell_type": "code",
   "execution_count": 206,
   "id": "a7454a02",
   "metadata": {},
   "outputs": [],
   "source": [
    "\"\"\"\n",
    "Given an integer B as represented by two arrays a, b\n",
    "where B = the product over i of (a_i ^ b_i)\n",
    "return the number of positive integers \n",
    "x less than B such that gcd(x, B) = 1\n",
    "\"\"\"\n",
    "def phi(a: np.array, b: np.array) -> int:\n",
    "    \n",
    "    result = 1\n",
    "    \n",
    "    for prime,power in zip(a,b):\n",
    "        \n",
    "        if power != 0:\n",
    "        \n",
    "            result *= (prime**(power-1)) * (prime - 1)\n",
    "            \n",
    "    return result"
   ]
  },
  {
   "cell_type": "code",
   "execution_count": 207,
   "id": "bf0e1280",
   "metadata": {},
   "outputs": [
    {
     "data": {
      "text/plain": [
       "6"
      ]
     },
     "execution_count": 207,
     "metadata": {},
     "output_type": "execute_result"
    }
   ],
   "source": [
    "phi([2,3,5,7,11,13], [1,0,0,1,0,0])"
   ]
  },
  {
   "cell_type": "code",
   "execution_count": 208,
   "id": "01faa1f9",
   "metadata": {},
   "outputs": [],
   "source": [
    "\"\"\"\n",
    "Given a factor base `factor_base` and an integer a, check whether or not \n",
    "a is B-smooth\n",
    "\n",
    "returns a list `exponents` where each element \n",
    "exponents[i] is the exponent of the prime factor_base[i] \n",
    "if a is B-smooth\n",
    "\n",
    "returns an empty array otherwise\n",
    "\"\"\"\n",
    "\n",
    "def is_B_smooth(a: int, factor_base: np.array) -> Union[np.array, bool]:\n",
    "    \n",
    "    exponents = np.zeros_like(factor_base)\n",
    "    \n",
    "    for i,p in enumerate(factor_base):\n",
    "        \n",
    "        if a == 1:          \n",
    "            break\n",
    "        \n",
    "        while a % p == 0:         \n",
    "            a = a / p           \n",
    "            exponents[i] += 1\n",
    "        \n",
    "    if a > 1:\n",
    "        return np.array([])\n",
    "    \n",
    "    return exponents"
   ]
  },
  {
   "cell_type": "code",
   "execution_count": 210,
   "id": "056f23f3",
   "metadata": {},
   "outputs": [],
   "source": [
    "'''\n",
    "Given a vector of exponents, return the vector mod-2 \n",
    "'''\n",
    "def exponent_vector_mod_2(exponents: np.array) -> np.array:\n",
    "    \n",
    "    return exponents % 2"
   ]
  },
  {
   "cell_type": "code",
   "execution_count": 212,
   "id": "0c9d8a31",
   "metadata": {},
   "outputs": [],
   "source": [
    "\"\"\"\n",
    "Given number to factor N pick a B value for factor base\n",
    "Taken from paper linked in the chat\n",
    "\"\"\"\n",
    "\n",
    "def choose_B(N: int) -> int:\n",
    "    L = np.e ** (0.5 * (np.log(N) * np.log(np.log(N)))**0.5)\n",
    "    return int(np.ceil(L))\n",
    "    "
   ]
  },
  {
   "cell_type": "code",
   "execution_count": 213,
   "id": "fb6c8453",
   "metadata": {},
   "outputs": [],
   "source": [
    "\"\"\"\n",
    "Given an integer B, use the sieve of Eratosthenes to\n",
    "find its prime factors \n",
    "\n",
    "returns a list of prime factors less than B\n",
    "\n",
    "\"\"\"\n",
    "\n",
    "def create_factors(n):\n",
    "    flags = np.ones(n, dtype=bool)\n",
    "    flags[0] = flags[1] = False\n",
    "    for i in range(2, int(np.sqrt(n)) + 1):\n",
    "        if flags[i]:\n",
    "            flags[i*i::i] = False\n",
    "    return np.flatnonzero(flags)"
   ]
  },
  {
   "cell_type": "code",
   "execution_count": 214,
   "id": "f3be3f08",
   "metadata": {},
   "outputs": [
    {
     "data": {
      "text/plain": [
       "651"
      ]
     },
     "execution_count": 214,
     "metadata": {},
     "output_type": "execute_result"
    }
   ],
   "source": [
    "B = choose_B(16921456439215439701)\n",
    "\n",
    "B"
   ]
  },
  {
   "cell_type": "code",
   "execution_count": 215,
   "id": "37b12979",
   "metadata": {},
   "outputs": [
    {
     "data": {
      "text/plain": [
       "array([  2,   3,   5,   7,  11,  13,  17,  19,  23,  29,  31,  37,  41,\n",
       "        43,  47,  53,  59,  61,  67,  71,  73,  79,  83,  89,  97, 101,\n",
       "       103, 107, 109, 113, 127, 131, 137, 139, 149, 151, 157, 163, 167,\n",
       "       173, 179, 181, 191, 193, 197, 199, 211, 223, 227, 229, 233, 239,\n",
       "       241, 251, 257, 263, 269, 271, 277, 281, 283, 293, 307, 311, 313,\n",
       "       317, 331, 337, 347, 349, 353, 359, 367, 373, 379, 383, 389, 397,\n",
       "       401, 409, 419, 421, 431, 433, 439, 443, 449, 457, 461, 463, 467,\n",
       "       479, 487, 491, 499, 503, 509, 521, 523, 541, 547, 557, 563, 569,\n",
       "       571, 577, 587, 593, 599, 601, 607, 613, 617, 619, 631, 641, 643,\n",
       "       647])"
      ]
     },
     "execution_count": 215,
     "metadata": {},
     "output_type": "execute_result"
    }
   ],
   "source": [
    "create_factors(B)"
   ]
  },
  {
   "cell_type": "code",
   "execution_count": 216,
   "id": "26a26165",
   "metadata": {},
   "outputs": [],
   "source": [
    "from numpy.linalg import svd\n",
    "\n",
    "def nullspace(A, atol=1e-13, rtol=0):\n",
    "    A = np.atleast_2d(A)\n",
    "    u, s, vh = svd(A)\n",
    "    tol = max(atol, rtol * s[0])\n",
    "    nnz = (s >= tol).sum()\n",
    "    ns = vh[nnz:].conj().T\n",
    "    return ns"
   ]
  },
  {
   "cell_type": "code",
   "execution_count": 328,
   "id": "50b068b4",
   "metadata": {},
   "outputs": [
    {
     "name": "stdout",
     "output_type": "stream",
     "text": [
      "ERROR! Session/line number was not unique in database. History logging moved to new session 6\n"
     ]
    }
   ],
   "source": [
    "def gaussian_elimination_mod2(M):\n",
    "\n",
    "    contains_pivot = [False]*len(M)\n",
    "    pivot_found = False\n",
    "    pivot_loc = {}\n",
    "    \n",
    "    for j in range(len(M[0])):\n",
    "        pivot_found = False\n",
    "        #Look for pivot\n",
    "        for i in range(len(M)):\n",
    "            # Pivot Found at row i and column j\n",
    "            if(M[i][j] == 1):\n",
    "                contains_pivot[i] = True\n",
    "                pivot_loc[j]=i\n",
    "                pivot_found = True\n",
    "                break\n",
    "          \n",
    "        if pivot_found:\n",
    "            for k in range(len(M[0])):\n",
    "                if (k == j):\n",
    "                    continue\n",
    "                if (M[i][k] == 1):\n",
    "                    for l in range(len(M)):\n",
    "                        M[l][k] = (M[l][j] + M[l][k])%2\n",
    "                        \n",
    "    return M, contains_pivot, pivot_loc\n",
    "\n",
    "# P3(b) find the left null space of M mod 2\n",
    "def left_null_space_mod2(M): \n",
    "    # solve with gaussian elimination\n",
    "    M, contains_pivot, pivot_loc = gaussian_elimination_mod2(M)\n",
    "    result = []\n",
    "    # Find left null space\n",
    "    for i in range(len(M)):\n",
    "        #Find dependent rows\n",
    "        null_space = []\n",
    "        if not contains_pivot[i]:\n",
    "            row = M[i]\n",
    "            null_space = [i]\n",
    "            for j in range(len(row)):\n",
    "                if (M[i][j]==1):\n",
    "                    null_space.append(pivot_loc[j])\n",
    "            result.append(null_space)\n",
    "    # Encoding the indicies\n",
    "    out_vecs = []\n",
    "    for space in result:\n",
    "        vec = [0]*len(M)\n",
    "        for idx in space:\n",
    "            vec[idx] = 1\n",
    "        out_vecs.append(vec)\n",
    "    return out_vecs"
   ]
  },
  {
   "cell_type": "code",
   "execution_count": 326,
   "id": "c5c3e2c7",
   "metadata": {},
   "outputs": [
    {
     "name": "stdout",
     "output_type": "stream",
     "text": [
      "ERROR! Session/line number was not unique in database. History logging moved to new session 5\n"
     ]
    }
   ],
   "source": [
    "'''\n",
    "Given an integer n, try to factor it into two large primes\n",
    "Returns a tuple of the factors if able to factor\n",
    "Returns false if couldn't factor\n",
    "''' \n",
    "def quadratic_sieve(n: int) -> Union[tuple[int, int], bool]:\n",
    "    \n",
    "    \n",
    "    \"\"\"\n",
    "    Choose smoothness bound B\n",
    "    \"\"\"\n",
    "    \n",
    "    B = choose_B(n)\n",
    "    factor_base = create_factors(B)\n",
    "    \n",
    "    \n",
    "    # represent B as its prime factorization\n",
    "\n",
    "    B_primes = factor_base\n",
    "    B_exp = is_B_smooth(B,factor_base)\n",
    "    \n",
    "    if (len(B_exp) == 0):\n",
    "        # B is a prime itself\n",
    "        B_primes = [B]\n",
    "        B_exp = [1]\n",
    "    \n",
    "\n",
    "    \"\"\"\n",
    "    Find phi(B) + 1 numbers a_i such that \n",
    "        b_i = a_i^2 (mod n)\n",
    "    is B-smooth.\n",
    "    \n",
    "    In checking if b_i is B-smooth, we also\n",
    "    factor b_i.\n",
    "    \n",
    "    \"\"\"\n",
    "    # assumes B is prime\n",
    "    phi_B = phi(B_primes, B_exp)\n",
    "    print(B,phi_B)\n",
    "    \n",
    "    all_b_exponents = []\n",
    "    all_a = []\n",
    "    all_b = []\n",
    "    \n",
    "    curr_a = math.ceil(np.sqrt(n))\n",
    "    \n",
    "    while len(all_b_exponents) < phi_B + 1:\n",
    "        \n",
    "        # find a new entry to add to the list\n",
    "        curr_b = curr_a**2 % n\n",
    "        \n",
    "        curr_exponents = is_B_smooth(curr_b, factor_base)\n",
    "        \n",
    "        if (len(curr_exponents) > 0):\n",
    "\n",
    "            all_a.append(curr_a)\n",
    "            all_b.append(curr_b)\n",
    "            all_b_exponents.append(curr_exponents) # append 0 for -1 factor\n",
    "        \n",
    "        curr_a += 1\n",
    "        \n",
    "                \n",
    "    \"\"\"\n",
    "    Generate exponent vectors \n",
    "    (mod 2) for each b_i\n",
    "    \"\"\"\n",
    "    \n",
    "    \n",
    "    all_exponent_vectors = [ exponent_vector_mod_2(b_exponents) for b_exponents in all_b_exponents ]\n",
    "    \n",
    "    \"\"\"\n",
    "    Find linear combination of these vectors that\n",
    "    sums to the zero vector\n",
    "    \"\"\"\n",
    "    \n",
    "    M = np.array(all_exponent_vectors) # matrix of exponent vectors\n",
    "    \n",
    "    zero_vector = np.zeros(M.shape[1])\n",
    "    \n",
    "#     try:\n",
    "#         x = np.linalg.solve(M, zero_vector)\n",
    "#     except np.linalg.LinAlgError:\n",
    "#         x = np.zeros(M.shape[0])\n",
    "#         x[0] = 1\n",
    "    \n",
    "    \n",
    "    \n",
    "    # solutions = nullspace(M.T)\n",
    "#    solutions *= np.min(solutions)\n",
    "    solutions = left_null_space_mod2(M)\n",
    "    \"\"\"\n",
    "    Multiply the corresponding a_i for the above \n",
    "    combination and call the result (mod n) 'a'\n",
    "    \n",
    "    Multiply the corresponding b_i for the above \n",
    "    combination and call the result (mod n) 'b'\n",
    "    \n",
    "    \"\"\"\n",
    "    tol = 1e-13\n",
    "    for j in solutions:\n",
    "        print(\"\\n\",j)\n",
    "        x = 1\n",
    "        y = 1\n",
    "        for i, k in enumerate(j):\n",
    "            \n",
    "            if (k > tol):\n",
    "                x *= all_a[i]\n",
    "                y *= all_b[i]\n",
    "                \n",
    "                print(all_a[i],all_b[i])\n",
    "        x = x % n\n",
    "        y = int(np.sqrt(y)) % n\n",
    "        factor = np.gcd(x-y, n)\n",
    "        if (factor != 1 and factor != n):\n",
    "            return factor, int(n / factor)\n",
    "\n",
    "    return \n",
    "    \n",
    "    \n",
    "    \n",
    "    "
   ]
  },
  {
   "cell_type": "code",
   "execution_count": null,
   "id": "5582d400",
   "metadata": {
    "scrolled": false
   },
   "outputs": [
    {
     "name": "stdout",
     "output_type": "stream",
     "text": [
      "19 18\n",
      "\n",
      " [1, 0, 0, 1, 0, 0, 0, 0, 0, 0, 0, 0, 0, 0, 0, 0, 0, 0, 0]\n",
      "735 352\n",
      "801 101728\n",
      "651 360\n",
      "\n",
      " [1, 0, 1, 0, 1, 0, 1, 1, 1, 1, 0, 0, 1, 0, 0, 1, 1, 0, 1, 0, 0, 0, 0, 0, 1, 0, 0, 1, 0, 1, 1, 1, 0, 0, 0, 0, 1, 1, 1, 1, 1, 1, 0, 1, 1, 0, 1, 1, 1, 1, 0, 1, 1, 1, 1, 1, 1, 0, 0, 0, 0, 0, 0, 0, 0, 0, 0, 0, 0, 0, 0, 0, 0, 0, 0, 0, 0, 0, 0, 0, 0, 0, 0, 0, 0, 0, 0, 0, 0, 0, 0, 0, 0, 0, 0, 0, 0, 0, 0, 0, 0, 0, 0, 0, 0, 0, 0, 0, 0, 0, 0, 0, 0, 0, 0, 0, 0, 0, 0, 0, 0, 0, 0, 0, 0, 0, 0, 0, 0, 0, 0, 0, 0, 0, 0, 0, 0, 0, 0, 0, 0, 0, 0, 0, 0, 0, 0, 0, 0, 0, 0, 0, 0, 0, 0, 0, 0, 0, 0, 0, 0, 0, 0, 0, 0, 0, 0, 0, 0, 0, 0, 0, 0, 0, 0, 0, 0, 0, 0, 0, 0, 0, 0, 0, 0, 0, 0, 0, 0, 0, 0, 0, 0, 0, 0, 0, 0, 0, 0, 0, 0, 0, 0, 0, 0, 0, 0, 0, 0, 0, 0, 0, 0, 0, 0, 0, 0, 0, 0, 0, 0, 0, 0, 0, 0, 0, 0, 0, 0, 0, 0, 0, 0, 0, 0, 0, 0, 0, 0, 0, 0, 0, 0, 0, 0, 0, 0, 0, 0, 0, 0, 0, 0, 0, 0, 0, 0, 0, 0, 0, 0, 0, 0, 0, 0, 0, 0, 0, 0, 0, 0, 0, 0, 0, 0, 0, 0, 0, 0, 0, 0, 0, 0, 0, 0, 0, 0, 0, 0, 0, 0, 0, 0, 0, 0, 0, 0, 0, 0, 0, 0, 0, 0, 0, 0, 0, 0, 0, 0, 0, 0, 0, 0, 0, 0, 0, 0, 0, 0, 0, 0, 0, 0, 0, 0, 0, 0, 0, 0, 0, 0, 0, 0, 0, 0, 0, 0, 0, 0, 0, 0, 0, 0, 0, 0, 0, 0, 0, 0, 0, 0, 0, 0, 0, 0, 0, 0, 0, 0, 0, 0]\n",
      "4113570729 7703270151740\n",
      "4113578953 75363349136508\n",
      "4113582749 106593654957300\n",
      "4113589949 165829298382900\n",
      "4113591031 174731108203260\n",
      "4113599687 245945671058268\n",
      "4113601201 258401653202700\n",
      "4113623524 442057990738875\n",
      "4113667575 804478390940924\n",
      "4113687574 969017266565775\n",
      "4113702103 1088553011182908\n",
      "4113844451 2259727808051700\n",
      "4113852299 2324298772145700\n",
      "4113864399 2423854144191500\n",
      "4113871226 2480024895303375\n",
      "4113888853 2625055622215908\n",
      "4114078301 4183827543606900\n",
      "4114147951 4756923502058700\n",
      "4114174694 4976973534553935\n",
      "4114175291 4981885859494980\n",
      "4114194468 5139681306363323\n",
      "4114267084 5737199270423355\n",
      "4114373556 6613319096645435\n",
      "4114422571 7016653538810340\n",
      "4114476179 7457788343000340\n",
      "4114516094 7786248569577135\n",
      "4114518524 7806245123698875\n",
      "4114592119 8411866521470460\n",
      "4114627021 8699082727894740\n",
      "4114630792 8730115259107563\n",
      "4114655499 8933436235499300\n",
      "4114796723 10095632396099028\n",
      "4114846319 10503789772410060\n",
      "4114884513 10818116111807468\n"
     ]
    }
   ],
   "source": [
    "quadratic_sieve(539873)\n",
    "\n",
    "quadratic_sieve(16921456439215439701)"
   ]
  },
  {
   "cell_type": "code",
   "execution_count": 309,
   "id": "d30cf3eb",
   "metadata": {},
   "outputs": [],
   "source": []
  },
  {
   "cell_type": "code",
   "execution_count": null,
   "id": "d93f15c8",
   "metadata": {},
   "outputs": [],
   "source": []
  }
 ],
 "metadata": {
  "kernelspec": {
   "display_name": "Python 3 (ipykernel)",
   "language": "python",
   "name": "python3"
  },
  "language_info": {
   "codemirror_mode": {
    "name": "ipython",
    "version": 3
   },
   "file_extension": ".py",
   "mimetype": "text/x-python",
   "name": "python",
   "nbconvert_exporter": "python",
   "pygments_lexer": "ipython3",
   "version": "3.9.11"
  }
 },
 "nbformat": 4,
 "nbformat_minor": 5
}
