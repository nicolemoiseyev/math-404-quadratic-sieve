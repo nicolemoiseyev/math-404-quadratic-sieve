{
 "cells": [
  {
   "cell_type": "code",
   "execution_count": 34,
   "id": "449bc15b",
   "metadata": {},
   "outputs": [],
   "source": [
    "import numpy as np\n",
    "from typing import Union\n",
    "import math"
   ]
  },
  {
   "cell_type": "code",
   "execution_count": null,
   "id": "8a213dbd",
   "metadata": {},
   "outputs": [],
   "source": []
  },
  {
   "cell_type": "code",
   "execution_count": 49,
   "id": "a7454a02",
   "metadata": {},
   "outputs": [],
   "source": [
    "\"\"\"\n",
    "Given an integer B as represented by two arrays a, b\n",
    "where B = the product over i of (a_i ^ b_i)\n",
    "return the number of positive integers \n",
    "x less than B such that gcd(x, B) = 1\n",
    "\"\"\"\n",
    "def phi(a: np.array, b: np.array) -> int:\n",
    "    \n",
    "    result = 1\n",
    "    \n",
    "    for p,power in zip(a,b):\n",
    "        \n",
    "        result *= (p**power) * (1. - 1./p)\n",
    "    \n",
    "    return int(result)"
   ]
  },
  {
   "cell_type": "code",
   "execution_count": 110,
   "id": "b0bc079d",
   "metadata": {},
   "outputs": [
    {
     "data": {
      "text/plain": [
       "8"
      ]
     },
     "execution_count": 110,
     "metadata": {},
     "output_type": "execute_result"
    }
   ],
   "source": [
    "a = [2,5]\n",
    "b = [2,1]\n",
    "phi(a,b)"
   ]
  },
  {
   "cell_type": "code",
   "execution_count": 65,
   "id": "01faa1f9",
   "metadata": {},
   "outputs": [],
   "source": [
    "\"\"\"\n",
    "Given a factor base `factor_base` and an integer a, check whether or not \n",
    "a is B-smooth\n",
    "\n",
    "returns a list `exponents` where each element \n",
    "exponents[i] is the exponent of the prime factor_base[i] \n",
    "if a is B-smooth\n",
    "\n",
    "returns an empty array otherwise\n",
    "\"\"\"\n",
    "\n",
    "def is_B_smooth(a: int, factor_base: np.array) -> Union[np.array, bool]:\n",
    "    \n",
    "    exponents = np.zeros_like(factor_base)\n",
    "    \n",
    "    for i,p in enumerate(factor_base):\n",
    "        \n",
    "        if a == 1:          \n",
    "            break\n",
    "        \n",
    "        while a % p == 0:         \n",
    "            a = a / p           \n",
    "            exponents[i] += 1\n",
    "        \n",
    "    if a > 1:\n",
    "        return np.array([])\n",
    "    \n",
    "    return exponents"
   ]
  },
  {
   "cell_type": "code",
   "execution_count": 66,
   "id": "5b438c4c",
   "metadata": {},
   "outputs": [
    {
     "data": {
      "text/plain": [
       "array([9, 0, 0, 0, 1, 1, 0])"
      ]
     },
     "execution_count": 66,
     "metadata": {},
     "output_type": "execute_result"
    }
   ],
   "source": [
    "factor_base = [2,3,5,7,11,13,17]\n",
    "n = 539873\n",
    "a = 783\n",
    "\n",
    "is_B_smooth(a**2 % n, factor_base)"
   ]
  },
  {
   "cell_type": "code",
   "execution_count": 67,
   "id": "056f23f3",
   "metadata": {},
   "outputs": [],
   "source": [
    "'''\n",
    "Given a vector of exponents, return the vector mod-2 \n",
    "'''\n",
    "def exponent_vector_mod_2(exponents: np.array) -> np.array:\n",
    "    \n",
    "    return exponents % 2"
   ]
  },
  {
   "cell_type": "code",
   "execution_count": 68,
   "id": "8f835629",
   "metadata": {},
   "outputs": [],
   "source": [
    "def primes6(n):\n",
    "    r = [False, True] * (n//2) + [True]\n",
    "    r[1], r[2] = False, True\n",
    "    for i in xrange(3, int(1 + n**0.5), 2):\n",
    "        if r[i]:\n",
    "            r[i*i::2*i] = [False] * ((n+2*i-1-i*i)/(2*i))\n",
    "    return r"
   ]
  },
  {
   "cell_type": "code",
   "execution_count": 69,
   "id": "5e376007",
   "metadata": {},
   "outputs": [],
   "source": [
    "\"\"\"\n",
    "Given number to factor N pick a B value for factor base\n",
    "Taken from paper linked in the chat\n",
    "\"\"\"\n",
    "\n",
    "def choose_B(N: int) -> int:\n",
    "    L = np.e ** (0.5 * (np.log(N) * np.log(np.log(N)))**0.5)\n",
    "    return int(np.ceil(L))\n",
    "    "
   ]
  },
  {
   "cell_type": "code",
   "execution_count": 70,
   "id": "135a09e8",
   "metadata": {},
   "outputs": [],
   "source": [
    "\"\"\"\n",
    "Given an integer B, use the sieve of Eratosthenes to\n",
    "find its prime factors \n",
    "\n",
    "returns a list of prime factors less than B\n",
    "\n",
    "\"\"\"\n",
    "\n",
    "def create_factors(n):\n",
    "    flags = np.ones(n, dtype=bool)\n",
    "    flags[0] = flags[1] = False\n",
    "    for i in range(2, int(np.sqrt(n)) + 1):\n",
    "        if flags[i]:\n",
    "            flags[i*i::i] = False\n",
    "    return np.flatnonzero(flags)"
   ]
  },
  {
   "cell_type": "code",
   "execution_count": 71,
   "id": "4774ebcc",
   "metadata": {},
   "outputs": [
    {
     "data": {
      "text/plain": [
       "651"
      ]
     },
     "execution_count": 71,
     "metadata": {},
     "output_type": "execute_result"
    }
   ],
   "source": [
    "B = choose_B(16921456439215439701)\n",
    "\n",
    "B"
   ]
  },
  {
   "cell_type": "code",
   "execution_count": 72,
   "id": "33dc67df",
   "metadata": {},
   "outputs": [
    {
     "data": {
      "text/plain": [
       "array([  2,   3,   5,   7,  11,  13,  17,  19,  23,  29,  31,  37,  41,\n",
       "        43,  47,  53,  59,  61,  67,  71,  73,  79,  83,  89,  97, 101,\n",
       "       103, 107, 109, 113, 127, 131, 137, 139, 149, 151, 157, 163, 167,\n",
       "       173, 179, 181, 191, 193, 197, 199, 211, 223, 227, 229, 233, 239,\n",
       "       241, 251, 257, 263, 269, 271, 277, 281, 283, 293, 307, 311, 313,\n",
       "       317, 331, 337, 347, 349, 353, 359, 367, 373, 379, 383, 389, 397,\n",
       "       401, 409, 419, 421, 431, 433, 439, 443, 449, 457, 461, 463, 467,\n",
       "       479, 487, 491, 499, 503, 509, 521, 523, 541, 547, 557, 563, 569,\n",
       "       571, 577, 587, 593, 599, 601, 607, 613, 617, 619, 631, 641, 643,\n",
       "       647])"
      ]
     },
     "execution_count": 72,
     "metadata": {},
     "output_type": "execute_result"
    }
   ],
   "source": [
    "create_factors(B)"
   ]
  },
  {
   "cell_type": "code",
   "execution_count": 117,
   "id": "c5c3e2c7",
   "metadata": {},
   "outputs": [],
   "source": [
    "'''\n",
    "Given an integer n, try to factor it into two large primes\n",
    "Returns a tuple of the factors if able to factor\n",
    "Returns false if couldn't factor\n",
    "''' \n",
    "def quadratic_sieve(n: int) -> Union[tuple[int, int], bool]:\n",
    "    \n",
    "    \n",
    "    \"\"\"\n",
    "    Choose smoothness bound B\n",
    "    \"\"\"\n",
    "    \n",
    "    B = choose_B(n)\n",
    "    factor_base = create_factors(B)\n",
    "    \n",
    "    \n",
    "    # represent B as its prime factorization\n",
    "    # TODO: how to ensure B is prime?\n",
    "    B_primes = [B]\n",
    "    B_exp = [1]\n",
    "    \n",
    "    print(B, factor_base, B_exp) \n",
    "\n",
    "\n",
    "    \"\"\"\n",
    "    Find phi(B) + 1 numbers a_i such that \n",
    "        b_i = a_i^2 (mod n)\n",
    "    is B-smooth.\n",
    "    \n",
    "    In checking if b_i is B-smooth, we also\n",
    "    factor b_i.\n",
    "    \n",
    "    \"\"\"\n",
    "    \n",
    "    phi_B = phi(factor_base,B_exp)\n",
    "    \n",
    "    all_b_exponents = []\n",
    "    all_a = []\n",
    "    all_b = []\n",
    "    \n",
    "    curr_a = math.ceil(np.sqrt(n))\n",
    "    \n",
    "    while len(all_b_exponents) < phi_B + 1:\n",
    "        \n",
    "        # find a new entry to add to the list\n",
    "        curr_b = curr_a**2 % n\n",
    "        \n",
    "        curr_exponents = is_B_smooth(curr_b, factor_base)\n",
    "        \n",
    "        if (len(curr_exponents) > 0):\n",
    "            all_a.append(curr_a)\n",
    "            all_b.append(curr_b)\n",
    "            all_b_exponents.append(curr_exponents)\n",
    "        \n",
    "        curr_a += 1\n",
    "        \n",
    "                \n",
    "    \"\"\"\n",
    "    Generate exponent vectors \n",
    "    (mod 2) for each b_i\n",
    "    \"\"\"\n",
    "    \n",
    "    all_exponent_vectors = [ exponent_vector_mod_2(b_exponents) for b_exponents in all_b_exponents ]\n",
    "    \n",
    "    \n",
    "    \"\"\"\n",
    "    Find linear combination of these vectors that\n",
    "    sums to the zero vector\n",
    "    \"\"\"\n",
    "    \n",
    "    M = np.array(all_exponent_vectors) # matrix of exponent vectors\n",
    "    \n",
    "    print(all_a,all_b_exponents,M)\n",
    "    zero_vector = np.zeros(M.shape[1])\n",
    "    \n",
    "    try:\n",
    "        x = np.linalg.solve(M, zero_vector)\n",
    "    except np.linalg.LinAlgError:\n",
    "        x = np.zeros(M.shape[0])\n",
    "        x[0] = 1\n",
    "    \n",
    "    \n",
    "    \n",
    "    \"\"\"\n",
    "    Multiply the corresponding a_i for the above \n",
    "    combination and call the result (mod n) 'a'\n",
    "    \n",
    "    Multiply the corresponding b_i for the above \n",
    "    combination and call the result (mod n) 'b'\n",
    "    \n",
    "    \"\"\"\n",
    "    \n",
    "    a = int(np.prod(all_a * x))\n",
    "    b = int(np.prod(all_b * x))\n",
    "    \n",
    "    factor = np.gcd(a - b, n)\n",
    "    \n",
    "    print(factor)\n",
    "    if (factor != n and factor != 1):\n",
    "        return factor\n",
    "    \n",
    "    return \n",
    "    \n",
    "    \n",
    "    \n",
    "    "
   ]
  },
  {
   "cell_type": "code",
   "execution_count": 118,
   "id": "5582d400",
   "metadata": {},
   "outputs": [
    {
     "name": "stdout",
     "output_type": "stream",
     "text": [
      "19 [ 2  3  5  7 11 13 17] [1]\n",
      "[735, 750] [array([5, 0, 0, 0, 1, 0, 0]), array([0, 0, 0, 0, 3, 0, 1])] [[1 0 0 0 1 0 0]\n",
      " [0 0 0 0 1 0 1]]\n",
      "539873\n"
     ]
    }
   ],
   "source": [
    "quadratic_sieve(539873)"
   ]
  },
  {
   "cell_type": "code",
   "execution_count": null,
   "id": "87c9160b",
   "metadata": {},
   "outputs": [],
   "source": []
  }
 ],
 "metadata": {
  "kernelspec": {
   "display_name": "Python 3 (ipykernel)",
   "language": "python",
   "name": "python3"
  },
  "language_info": {
   "codemirror_mode": {
    "name": "ipython",
    "version": 3
   },
   "file_extension": ".py",
   "mimetype": "text/x-python",
   "name": "python",
   "nbconvert_exporter": "python",
   "pygments_lexer": "ipython3",
   "version": "3.9.11"
  }
 },
 "nbformat": 4,
 "nbformat_minor": 5
}
