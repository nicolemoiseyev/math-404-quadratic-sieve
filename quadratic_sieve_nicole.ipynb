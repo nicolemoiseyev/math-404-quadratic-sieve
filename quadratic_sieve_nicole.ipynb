{
 "cells": [
  {
   "cell_type": "code",
   "execution_count": 4,
   "id": "449bc15b",
   "metadata": {},
   "outputs": [],
   "source": [
    "import numpy as np\n",
    "from typing import Union"
   ]
  },
  {
   "cell_type": "code",
   "execution_count": null,
   "id": "8a213dbd",
   "metadata": {},
   "outputs": [],
   "source": []
  },
  {
   "cell_type": "code",
   "execution_count": 11,
   "id": "a7454a02",
   "metadata": {},
   "outputs": [],
   "source": [
    "\"\"\"\n",
    "Given an integer B as represented by two arrays a, b\n",
    "where B = the product over i of (a_i ^ b_i)\n",
    "return the number of positive integers \n",
    "x less than B such that gcd(x, B) = 1\n",
    "\"\"\"\n",
    "def phi(a: np.array, b: np.array) -> int:\n",
    "    \n",
    "    result = 1\n",
    "    \n",
    "    for p,power in zip(a,b):\n",
    "        \n",
    "        result *= (p**power) * (1. - 1./p)\n",
    "    \n",
    "    return int(result)"
   ]
  },
  {
   "cell_type": "code",
   "execution_count": 12,
   "id": "48d8c56e",
   "metadata": {},
   "outputs": [
    {
     "data": {
      "text/plain": [
       "8"
      ]
     },
     "execution_count": 12,
     "metadata": {},
     "output_type": "execute_result"
    }
   ],
   "source": [
    "a = [2,5]\n",
    "b = [2,1]\n",
    "phi(a,b)"
   ]
  },
  {
   "cell_type": "code",
   "execution_count": 30,
   "id": "01faa1f9",
   "metadata": {},
   "outputs": [],
   "source": [
    "\"\"\"\n",
    "Given a factor base `factor_base` and an integer a, check whether or not \n",
    "a is B-smooth\n",
    "\n",
    "returns a list `exponents` where each element \n",
    "exponents[i] is the exponent of the prime factor_base[i] \n",
    "if a is B-smooth\n",
    "\n",
    "returns false otherwise\n",
    "\"\"\"\n",
    "\n",
    "def is_B_smooth(a: int, factor_base: np.array) -> Union[np.array, bool]:\n",
    "    \n",
    "    exponents = np.zeros_like(factor_base)\n",
    "    \n",
    "    for i,p in enumerate(factor_base):\n",
    "        \n",
    "        if a == 1:          \n",
    "            break\n",
    "        \n",
    "        while a % p == 0:         \n",
    "            a = a / p           \n",
    "            exponents[i] += 1\n",
    "        \n",
    "    if a > 1:\n",
    "        return False\n",
    "    \n",
    "    return exponents"
   ]
  },
  {
   "cell_type": "code",
   "execution_count": 36,
   "id": "9eb68623",
   "metadata": {},
   "outputs": [
    {
     "data": {
      "text/plain": [
       "array([9, 0, 0, 0, 1, 1, 0])"
      ]
     },
     "execution_count": 36,
     "metadata": {},
     "output_type": "execute_result"
    }
   ],
   "source": [
    "factor_base = [2,3,5,7,11,13,17]\n",
    "n = 539873\n",
    "a = 783\n",
    "\n",
    "is_B_smooth(a**2 % n, factor_base)"
   ]
  },
  {
   "cell_type": "code",
   "execution_count": 16,
   "id": "056f23f3",
   "metadata": {},
   "outputs": [],
   "source": [
    "'''\n",
    "Given a vector of exponents, return the vector mod-2 \n",
    "'''\n",
    "def exponent_vector_mod_2(exponents: np.array) -> np.array:\n",
    "    \n",
    "    return exponents % 2"
   ]
  },
  {
   "cell_type": "code",
   "execution_count": null,
   "id": "ccc10ccf",
   "metadata": {},
   "outputs": [],
   "source": []
  },
  {
   "cell_type": "code",
   "execution_count": 12,
   "id": "c5c3e2c7",
   "metadata": {},
   "outputs": [],
   "source": [
    "'''\n",
    "Given an integer n, try to factor it into two large primes\n",
    "Returns a tuple of the factors if able to factor\n",
    "Returns false if couldn't factor\n",
    "''' \n",
    "def quadratic_sieve(n: int) -> Union[tuple[int, int], bool]:\n",
    "    \n",
    "    \n",
    "    \"\"\"\n",
    "    Choose smoothness bound B\n",
    "    \"\"\"\n",
    "    \n",
    "    \"\"\"\n",
    "    Represent B as product over i of (a_i^b_i)\n",
    "    \"\"\"\n",
    "    \n",
    "    \"\"\"\n",
    "    Find phi(B) + 1 numbers a_i such that \n",
    "        b_i = a_i^2 (mod n)\n",
    "    is B-smooth.\n",
    "    \"\"\"\n",
    "    \n",
    "    n = phi(a,b)\n",
    "    \n",
    "    nums = []\n",
    "    \n",
    "    while len(nums) < n:\n",
    "        \n",
    "        continue\n",
    "    \n",
    "    \"\"\"\n",
    "    Factor the b_i and generate exponent vectors \n",
    "    (mod 2) for each b_i\n",
    "    \"\"\"\n",
    "    \n",
    "    \"\"\"\n",
    "    Find linear combination of these vectors that\n",
    "    sums to the zero vector\n",
    "    \"\"\"\n",
    "    \n",
    "    \"\"\"\n",
    "    Multiply the corresponding a_i for the above \n",
    "    combination and call the result (mod n) 'a'\n",
    "    \n",
    "    Multiply the corresponding b_i for the above \n",
    "    combination and call the result (mod n) 'b'\n",
    "    \n",
    "    \"\"\"\n",
    "    \n",
    "    \n",
    "    \n",
    "    \n",
    "    pass"
   ]
  },
  {
   "cell_type": "code",
   "execution_count": null,
   "id": "5582d400",
   "metadata": {},
   "outputs": [],
   "source": []
  }
 ],
 "metadata": {
  "kernelspec": {
   "display_name": "Python 3 (ipykernel)",
   "language": "python",
   "name": "python3"
  },
  "language_info": {
   "codemirror_mode": {
    "name": "ipython",
    "version": 3
   },
   "file_extension": ".py",
   "mimetype": "text/x-python",
   "name": "python",
   "nbconvert_exporter": "python",
   "pygments_lexer": "ipython3",
   "version": "3.9.11"
  }
 },
 "nbformat": 4,
 "nbformat_minor": 5
}
